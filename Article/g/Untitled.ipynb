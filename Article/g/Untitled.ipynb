{
 "cells": [
  {
   "cell_type": "code",
   "execution_count": 1,
   "metadata": {},
   "outputs": [
    {
     "name": "stdout",
     "output_type": "stream",
     "text": [
      "12\n",
      "56\n",
      "34\n"
     ]
    }
   ],
   "source": [
    "from greenlet import greenlet\n",
    "\n",
    "# greenlet(run=None, parent=None)\n",
    "\n",
    "def test1():\n",
    "    print(12)\n",
    "    gr2.switch()\n",
    "    print(34)\n",
    "\n",
    "def test2():\n",
    "    print(56)\n",
    "    gr1.switch()\n",
    "    print(78)\n",
    "\n",
    "gr1 = greenlet(test1)\n",
    "gr2 = greenlet(test2)\n",
    "gr1.switch()\n"
   ]
  },
  {
   "cell_type": "code",
   "execution_count": null,
   "metadata": {},
   "outputs": [],
   "source": []
  }
 ],
 "metadata": {
  "kernelspec": {
   "display_name": "Python 2",
   "language": "python",
   "name": "python2"
  },
  "language_info": {
   "codemirror_mode": {
    "name": "ipython",
    "version": 2
   },
   "file_extension": ".py",
   "mimetype": "text/x-python",
   "name": "python",
   "nbconvert_exporter": "python",
   "pygments_lexer": "ipython2",
   "version": "2.7.15"
  }
 },
 "nbformat": 4,
 "nbformat_minor": 2
}
